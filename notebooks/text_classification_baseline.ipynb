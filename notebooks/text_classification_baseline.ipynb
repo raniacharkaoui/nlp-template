{
 "cells": [
  {
   "cell_type": "markdown",
   "id": "661d6554",
   "metadata": {},
   "source": [
    "# Baseline: Text classification"
   ]
  },
  {
   "cell_type": "markdown",
   "id": "6b413e19",
   "metadata": {},
   "source": [
    "## Technicalities"
   ]
  },
  {
   "cell_type": "code",
   "execution_count": 1,
   "id": "67aa73ef",
   "metadata": {
    "ExecuteTime": {
     "end_time": "2023-03-27T13:48:32.770077Z",
     "start_time": "2023-03-27T13:48:32.768293Z"
    }
   },
   "outputs": [],
   "source": [
    "import os, sys\n",
    "\n",
    "src = os.path.abspath(os.path.join(os.getcwd(), os.pardir))\n",
    "sys.path.append(src)"
   ]
  },
  {
   "cell_type": "code",
   "execution_count": 2,
   "id": "dd8c9245",
   "metadata": {
    "ExecuteTime": {
     "end_time": "2023-03-27T13:48:32.858689Z",
     "start_time": "2023-03-27T13:48:32.770970Z"
    }
   },
   "outputs": [],
   "source": [
    "import numpy as np\n",
    "\n",
    "SEED = 1\n",
    "reproducible = np.random.RandomState(SEED)"
   ]
  },
  {
   "cell_type": "markdown",
   "id": "512bc637",
   "metadata": {},
   "source": [
    "## Loading data"
   ]
  },
  {
   "cell_type": "code",
   "execution_count": 3,
   "id": "a4b76a25",
   "metadata": {
    "ExecuteTime": {
     "end_time": "2023-03-27T13:48:33.345303Z",
     "start_time": "2023-03-27T13:48:32.860449Z"
    }
   },
   "outputs": [],
   "source": [
    "import pandas as pd"
   ]
  },
  {
   "cell_type": "code",
   "execution_count": 4,
   "id": "8ead12bd",
   "metadata": {
    "ExecuteTime": {
     "end_time": "2023-03-27T13:48:33.347498Z",
     "start_time": "2023-03-27T13:48:33.346173Z"
    },
    "code_folding": []
   },
   "outputs": [],
   "source": [
    "path = \".xlsx\""
   ]
  },
  {
   "cell_type": "code",
   "execution_count": 5,
   "id": "a21bf306",
   "metadata": {
    "ExecuteTime": {
     "end_time": "2023-03-27T13:48:37.407232Z",
     "start_time": "2023-03-27T13:48:33.348381Z"
    }
   },
   "outputs": [],
   "source": [
    "df = pd.read_excel(\n",
    "    path,\n",
    "    sheet_name='Merged Raw data')"
   ]
  },
  {
   "cell_type": "markdown",
   "id": "f1394b79",
   "metadata": {
    "ExecuteTime": {
     "end_time": "2023-03-27T03:54:14.868047Z",
     "start_time": "2023-03-27T03:54:10.872852Z"
    }
   },
   "source": [
    "### Preprocessing"
   ]
  },
  {
   "cell_type": "code",
   "execution_count": null,
   "id": "65b539dd",
   "metadata": {},
   "outputs": [],
   "source": []
  },
  {
   "cell_type": "markdown",
   "id": "5b3d7d4b",
   "metadata": {},
   "source": [
    "## Building pipeline"
   ]
  },
  {
   "cell_type": "code",
   "execution_count": 51,
   "id": "ccd31519",
   "metadata": {
    "ExecuteTime": {
     "end_time": "2023-03-27T14:23:15.354750Z",
     "start_time": "2023-03-27T14:23:13.637328Z"
    }
   },
   "outputs": [
    {
     "name": "stderr",
     "output_type": "stream",
     "text": [
      "/Users/raniacharkaoui/miniforge3/envs/ncbs/lib/python3.9/site-packages/sklearn/linear_model/_logistic.py:458: ConvergenceWarning: lbfgs failed to converge (status=1):\n",
      "STOP: TOTAL NO. of ITERATIONS REACHED LIMIT.\n",
      "\n",
      "Increase the number of iterations (max_iter) or scale the data as shown in:\n",
      "    https://scikit-learn.org/stable/modules/preprocessing.html\n",
      "Please also refer to the documentation for alternative solver options:\n",
      "    https://scikit-learn.org/stable/modules/linear_model.html#logistic-regression\n",
      "  n_iter_i = _check_optimize_result(\n"
     ]
    },
    {
     "name": "stdout",
     "output_type": "stream",
     "text": [
      "Pipeline: nb_cv\n",
      "Accuracy: 0.811\n",
      "Balanced Accuracy: 0.519\n",
      "Classification Report:\n",
      "                precision    recall  f1-score   support\n",
      "\n",
      "       design       0.80      0.96      0.87      1740\n",
      "manufacturing       0.88      0.47      0.62       413\n",
      "    marketing       0.83      0.55      0.66       420\n",
      "       recall       1.00      0.09      0.16        23\n",
      "\n",
      "     accuracy                           0.81      2596\n",
      "    macro avg       0.88      0.52      0.58      2596\n",
      " weighted avg       0.82      0.81      0.79      2596\n",
      "\n",
      "Pipeline: lr_cv\n",
      "Accuracy: 0.792\n",
      "Balanced Accuracy: 0.834\n",
      "Classification Report:\n",
      "                precision    recall  f1-score   support\n",
      "\n",
      "       design       0.92      0.77      0.84      1740\n",
      "manufacturing       0.65      0.78      0.71       413\n",
      "    marketing       0.59      0.87      0.70       420\n",
      "       recall       1.00      0.91      0.95        23\n",
      "\n",
      "     accuracy                           0.79      2596\n",
      "    macro avg       0.79      0.83      0.80      2596\n",
      " weighted avg       0.83      0.79      0.80      2596\n",
      "\n",
      "Pipeline: svm_cv\n",
      "Accuracy: 0.798\n",
      "Balanced Accuracy: 0.859\n",
      "Classification Report:\n",
      "                precision    recall  f1-score   support\n",
      "\n",
      "       design       0.92      0.78      0.85      1740\n",
      "manufacturing       0.67      0.76      0.72       413\n",
      "    marketing       0.59      0.89      0.71       420\n",
      "       recall       1.00      1.00      1.00        23\n",
      "\n",
      "     accuracy                           0.80      2596\n",
      "    macro avg       0.80      0.86      0.82      2596\n",
      " weighted avg       0.83      0.80      0.81      2596\n",
      "\n",
      "Pipeline: nb_tfidf\n",
      "Accuracy: 0.767\n",
      "Balanced Accuracy: 0.412\n",
      "Classification Report:\n",
      "                precision    recall  f1-score   support\n",
      "\n",
      "       design       0.75      0.99      0.85      1740\n",
      "manufacturing       0.93      0.32      0.48       413\n",
      "    marketing       0.89      0.34      0.50       420\n",
      "       recall       0.00      0.00      0.00        23\n",
      "\n",
      "     accuracy                           0.77      2596\n",
      "    macro avg       0.64      0.41      0.46      2596\n",
      " weighted avg       0.79      0.77      0.73      2596\n",
      "\n",
      "Pipeline: lr_tfidf\n",
      "Accuracy: 0.843\n",
      "Balanced Accuracy: 0.705\n",
      "Classification Report:\n",
      "                precision    recall  f1-score   support\n",
      "\n",
      "       design       0.84      0.95      0.89      1740\n",
      "manufacturing       0.82      0.60      0.69       413\n",
      "    marketing       0.86      0.66      0.75       420\n",
      "       recall       1.00      0.61      0.76        23\n",
      "\n",
      "     accuracy                           0.84      2596\n",
      "    macro avg       0.88      0.70      0.77      2596\n",
      " weighted avg       0.84      0.84      0.84      2596\n",
      "\n",
      "Pipeline: svm_tfidf\n",
      "Accuracy: 0.857\n",
      "Balanced Accuracy: 0.816\n",
      "Classification Report:\n",
      "                precision    recall  f1-score   support\n",
      "\n",
      "       design       0.87      0.92      0.90      1740\n",
      "manufacturing       0.80      0.67      0.73       413\n",
      "    marketing       0.82      0.76      0.79       420\n",
      "       recall       1.00      0.91      0.95        23\n",
      "\n",
      "     accuracy                           0.86      2596\n",
      "    macro avg       0.87      0.82      0.84      2596\n",
      " weighted avg       0.85      0.86      0.85      2596\n",
      "\n"
     ]
    },
    {
     "name": "stderr",
     "output_type": "stream",
     "text": [
      "/Users/raniacharkaoui/miniforge3/envs/ncbs/lib/python3.9/site-packages/sklearn/metrics/_classification.py:1344: UndefinedMetricWarning: Precision and F-score are ill-defined and being set to 0.0 in labels with no predicted samples. Use `zero_division` parameter to control this behavior.\n",
      "  _warn_prf(average, modifier, msg_start, len(result))\n",
      "/Users/raniacharkaoui/miniforge3/envs/ncbs/lib/python3.9/site-packages/sklearn/metrics/_classification.py:1344: UndefinedMetricWarning: Precision and F-score are ill-defined and being set to 0.0 in labels with no predicted samples. Use `zero_division` parameter to control this behavior.\n",
      "  _warn_prf(average, modifier, msg_start, len(result))\n",
      "/Users/raniacharkaoui/miniforge3/envs/ncbs/lib/python3.9/site-packages/sklearn/metrics/_classification.py:1344: UndefinedMetricWarning: Precision and F-score are ill-defined and being set to 0.0 in labels with no predicted samples. Use `zero_division` parameter to control this behavior.\n",
      "  _warn_prf(average, modifier, msg_start, len(result))\n"
     ]
    }
   ],
   "source": [
    "target_cols = 'target'\n",
    "# Split the data into train and test sets\n",
    "train_df, test_df = train_test_split(df, test_size=0.2, random_state=42)\n",
    "\n",
    "# Define the vectorizers\n",
    "cv = CountVectorizer()\n",
    "tfidf = TfidfVectorizer()\n",
    "\n",
    "# Define the classifiers\n",
    "nb = MultinomialNB()\n",
    "lr = LogisticRegression(random_state=42)\n",
    "svm = LinearSVC(random_state=42)\n",
    "\n",
    "# Define the pipelines\n",
    "pipelines = [\n",
    "    (\"nb_cv\", Pipeline([(\"cv\", cv), (\"nb\", nb)])),\n",
    "    (\"lr_cv\", Pipeline([(\"cv\", cv), (\"lr\", lr)])),\n",
    "    (\"svm_cv\", Pipeline([(\"cv\", cv), (\"svm\", svm)])),\n",
    "    (\"nb_tfidf\", Pipeline([(\"tfidf\", tfidf), (\"nb\", nb)])),\n",
    "    (\"lr_tfidf\", Pipeline([(\"tfidf\", tfidf), (\"lr\", lr)])),\n",
    "    (\"svm_tfidf\", Pipeline([(\"tfidf\", tfidf), (\"svm\", svm)])),\n",
    "]\n",
    "\n",
    "# Fit the pipelines on the training data\n",
    "for name, pipeline in pipelines:\n",
    "    pipeline.fit(train_df[\"text\"], train_df[target_cols])\n",
    "\n",
    "# Predict labels for the test data\n",
    "for name, pipeline in pipelines:\n",
    "    y_pred = pipeline.predict(test_df[\"text\"])\n",
    "\n",
    "    # Compute accuracy, balanced accuracy, and classification report\n",
    "    accuracy = accuracy_score(test_df[target_cols], y_pred)\n",
    "    balanced_accuracy = balanced_accuracy_score(test_df[target_cols], y_pred)\n",
    "    class_report = classification_report(test_df[target_cols], y_pred)\n",
    "\n",
    "    # Print the results\n",
    "    print(f\"Pipeline: {name}\")\n",
    "    print(f\"Accuracy: {accuracy:.3f}\")\n",
    "    print(f\"Balanced Accuracy: {balanced_accuracy:.3f}\")\n",
    "    print(\"Classification Report:\\n\", class_report)\n"
   ]
  },
  {
   "cell_type": "code",
   "execution_count": null,
   "id": "1d5d0442",
   "metadata": {},
   "outputs": [],
   "source": []
  }
 ],
 "metadata": {
  "kernelspec": {
   "display_name": "Python 3.11.0 64-bit ('ncbs': conda)",
   "language": "python",
   "name": "python3110jvsc74a57bd09a135b0b086815787803c4a8b5c4b91cfe141bb85dc03610a1a3b0f307b73536"
  },
  "language_info": {
   "codemirror_mode": {
    "name": "ipython",
    "version": 3
   },
   "file_extension": ".py",
   "mimetype": "text/x-python",
   "name": "python",
   "nbconvert_exporter": "python",
   "pygments_lexer": "ipython3",
   "version": "3.9.0"
  },
  "toc": {
   "base_numbering": 1,
   "nav_menu": {},
   "number_sections": true,
   "sideBar": true,
   "skip_h1_title": false,
   "title_cell": "Table of Contents",
   "title_sidebar": "Contents",
   "toc_cell": false,
   "toc_position": {},
   "toc_section_display": true,
   "toc_window_display": false
  }
 },
 "nbformat": 4,
 "nbformat_minor": 5
}
